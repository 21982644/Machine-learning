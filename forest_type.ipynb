{
 "cells": [
  {
   "cell_type": "markdown",
   "id": "6e24c359",
   "metadata": {},
   "source": [
    "## Set up \n",
    "\n",
    "First, lets import packages that are required.<br>\n",
    "Note* not all packages used are list here, some of them are imported in later cells."
   ]
  },
  {
   "cell_type": "code",
   "execution_count": 1,
   "id": "6a017d5f",
   "metadata": {},
   "outputs": [],
   "source": [
    "import matplotlib.pyplot as plt\n",
    "import numpy as np\n",
    "import pandas as pd\n",
    "import seaborn as sns"
   ]
  },
  {
   "cell_type": "markdown",
   "id": "f4481cc9",
   "metadata": {},
   "source": [
    "## Load dataset\n",
    "The training and test set are already splitted. "
   ]
  },
  {
   "cell_type": "code",
   "execution_count": 2,
   "id": "4b41ebe3",
   "metadata": {},
   "outputs": [],
   "source": [
    "train = pd.read_csv('training.csv')\n",
    "test = pd.read_csv('testing.csv')"
   ]
  },
  {
   "cell_type": "markdown",
   "id": "2258eb2a",
   "metadata": {},
   "source": [
    "## Overview of the Data\n",
    "\n",
    "### Take a quick look\n",
    "\n",
    "There are 325 observations in the training set with 28 features. There's only one categorical column and else are  numerical type. The data seems quite clean with no null values."
   ]
  },
  {
   "cell_type": "code",
   "execution_count": 3,
   "id": "f34e83f7",
   "metadata": {},
   "outputs": [
    {
     "data": {
      "text/html": [
       "<div>\n",
       "<style scoped>\n",
       "    .dataframe tbody tr th:only-of-type {\n",
       "        vertical-align: middle;\n",
       "    }\n",
       "\n",
       "    .dataframe tbody tr th {\n",
       "        vertical-align: top;\n",
       "    }\n",
       "\n",
       "    .dataframe thead th {\n",
       "        text-align: right;\n",
       "    }\n",
       "</style>\n",
       "<table border=\"1\" class=\"dataframe\">\n",
       "  <thead>\n",
       "    <tr style=\"text-align: right;\">\n",
       "      <th></th>\n",
       "      <th>class</th>\n",
       "      <th>b1</th>\n",
       "      <th>b2</th>\n",
       "      <th>b3</th>\n",
       "      <th>b4</th>\n",
       "      <th>b5</th>\n",
       "      <th>b6</th>\n",
       "      <th>b7</th>\n",
       "      <th>b8</th>\n",
       "      <th>b9</th>\n",
       "      <th>...</th>\n",
       "      <th>pred_minus_obs_H_b9</th>\n",
       "      <th>pred_minus_obs_S_b1</th>\n",
       "      <th>pred_minus_obs_S_b2</th>\n",
       "      <th>pred_minus_obs_S_b3</th>\n",
       "      <th>pred_minus_obs_S_b4</th>\n",
       "      <th>pred_minus_obs_S_b5</th>\n",
       "      <th>pred_minus_obs_S_b6</th>\n",
       "      <th>pred_minus_obs_S_b7</th>\n",
       "      <th>pred_minus_obs_S_b8</th>\n",
       "      <th>pred_minus_obs_S_b9</th>\n",
       "    </tr>\n",
       "  </thead>\n",
       "  <tbody>\n",
       "    <tr>\n",
       "      <th>0</th>\n",
       "      <td>d</td>\n",
       "      <td>67</td>\n",
       "      <td>51</td>\n",
       "      <td>68</td>\n",
       "      <td>115</td>\n",
       "      <td>69</td>\n",
       "      <td>111</td>\n",
       "      <td>136</td>\n",
       "      <td>31</td>\n",
       "      <td>67</td>\n",
       "      <td>...</td>\n",
       "      <td>-9.17</td>\n",
       "      <td>-18.27</td>\n",
       "      <td>-1.80</td>\n",
       "      <td>-6.32</td>\n",
       "      <td>-20.88</td>\n",
       "      <td>-1.63</td>\n",
       "      <td>-6.13</td>\n",
       "      <td>-22.56</td>\n",
       "      <td>-5.53</td>\n",
       "      <td>-8.11</td>\n",
       "    </tr>\n",
       "    <tr>\n",
       "      <th>1</th>\n",
       "      <td>s</td>\n",
       "      <td>67</td>\n",
       "      <td>28</td>\n",
       "      <td>51</td>\n",
       "      <td>99</td>\n",
       "      <td>50</td>\n",
       "      <td>97</td>\n",
       "      <td>82</td>\n",
       "      <td>26</td>\n",
       "      <td>59</td>\n",
       "      <td>...</td>\n",
       "      <td>-2.25</td>\n",
       "      <td>-20.13</td>\n",
       "      <td>-2.11</td>\n",
       "      <td>-6.35</td>\n",
       "      <td>-21.94</td>\n",
       "      <td>-1.22</td>\n",
       "      <td>-6.13</td>\n",
       "      <td>-22.20</td>\n",
       "      <td>-3.41</td>\n",
       "      <td>-6.57</td>\n",
       "    </tr>\n",
       "    <tr>\n",
       "      <th>2</th>\n",
       "      <td>s</td>\n",
       "      <td>63</td>\n",
       "      <td>26</td>\n",
       "      <td>50</td>\n",
       "      <td>95</td>\n",
       "      <td>49</td>\n",
       "      <td>91</td>\n",
       "      <td>81</td>\n",
       "      <td>26</td>\n",
       "      <td>57</td>\n",
       "      <td>...</td>\n",
       "      <td>-0.44</td>\n",
       "      <td>-17.64</td>\n",
       "      <td>-1.81</td>\n",
       "      <td>-4.70</td>\n",
       "      <td>-19.39</td>\n",
       "      <td>-0.65</td>\n",
       "      <td>-5.01</td>\n",
       "      <td>-20.89</td>\n",
       "      <td>-3.96</td>\n",
       "      <td>-6.85</td>\n",
       "    </tr>\n",
       "    <tr>\n",
       "      <th>3</th>\n",
       "      <td>d</td>\n",
       "      <td>63</td>\n",
       "      <td>42</td>\n",
       "      <td>63</td>\n",
       "      <td>97</td>\n",
       "      <td>66</td>\n",
       "      <td>108</td>\n",
       "      <td>111</td>\n",
       "      <td>28</td>\n",
       "      <td>59</td>\n",
       "      <td>...</td>\n",
       "      <td>-2.34</td>\n",
       "      <td>-20.20</td>\n",
       "      <td>-1.89</td>\n",
       "      <td>-5.47</td>\n",
       "      <td>-21.65</td>\n",
       "      <td>-0.99</td>\n",
       "      <td>-5.71</td>\n",
       "      <td>-22.19</td>\n",
       "      <td>-3.41</td>\n",
       "      <td>-6.52</td>\n",
       "    </tr>\n",
       "    <tr>\n",
       "      <th>4</th>\n",
       "      <td>s</td>\n",
       "      <td>46</td>\n",
       "      <td>27</td>\n",
       "      <td>50</td>\n",
       "      <td>83</td>\n",
       "      <td>51</td>\n",
       "      <td>90</td>\n",
       "      <td>76</td>\n",
       "      <td>26</td>\n",
       "      <td>56</td>\n",
       "      <td>...</td>\n",
       "      <td>1.25</td>\n",
       "      <td>-18.62</td>\n",
       "      <td>-2.17</td>\n",
       "      <td>-7.11</td>\n",
       "      <td>-21.12</td>\n",
       "      <td>-1.56</td>\n",
       "      <td>-6.35</td>\n",
       "      <td>-22.19</td>\n",
       "      <td>-4.45</td>\n",
       "      <td>-7.32</td>\n",
       "    </tr>\n",
       "  </tbody>\n",
       "</table>\n",
       "<p>5 rows × 28 columns</p>\n",
       "</div>"
      ],
      "text/plain": [
       "  class  b1  b2  b3   b4  b5   b6   b7  b8  b9  ...  pred_minus_obs_H_b9  \\\n",
       "0     d  67  51  68  115  69  111  136  31  67  ...                -9.17   \n",
       "1     s  67  28  51   99  50   97   82  26  59  ...                -2.25   \n",
       "2     s  63  26  50   95  49   91   81  26  57  ...                -0.44   \n",
       "3     d  63  42  63   97  66  108  111  28  59  ...                -2.34   \n",
       "4     s  46  27  50   83  51   90   76  26  56  ...                 1.25   \n",
       "\n",
       "   pred_minus_obs_S_b1  pred_minus_obs_S_b2  pred_minus_obs_S_b3  \\\n",
       "0               -18.27                -1.80                -6.32   \n",
       "1               -20.13                -2.11                -6.35   \n",
       "2               -17.64                -1.81                -4.70   \n",
       "3               -20.20                -1.89                -5.47   \n",
       "4               -18.62                -2.17                -7.11   \n",
       "\n",
       "   pred_minus_obs_S_b4  pred_minus_obs_S_b5  pred_minus_obs_S_b6  \\\n",
       "0               -20.88                -1.63                -6.13   \n",
       "1               -21.94                -1.22                -6.13   \n",
       "2               -19.39                -0.65                -5.01   \n",
       "3               -21.65                -0.99                -5.71   \n",
       "4               -21.12                -1.56                -6.35   \n",
       "\n",
       "   pred_minus_obs_S_b7  pred_minus_obs_S_b8  pred_minus_obs_S_b9  \n",
       "0               -22.56                -5.53                -8.11  \n",
       "1               -22.20                -3.41                -6.57  \n",
       "2               -20.89                -3.96                -6.85  \n",
       "3               -22.19                -3.41                -6.52  \n",
       "4               -22.19                -4.45                -7.32  \n",
       "\n",
       "[5 rows x 28 columns]"
      ]
     },
     "execution_count": 3,
     "metadata": {},
     "output_type": "execute_result"
    }
   ],
   "source": [
    "train.head()"
   ]
  },
  {
   "cell_type": "code",
   "execution_count": 4,
   "id": "14632b68",
   "metadata": {},
   "outputs": [
    {
     "name": "stdout",
     "output_type": "stream",
     "text": [
      "<class 'pandas.core.frame.DataFrame'>\n",
      "RangeIndex: 325 entries, 0 to 324\n",
      "Data columns (total 28 columns):\n",
      " #   Column               Non-Null Count  Dtype  \n",
      "---  ------               --------------  -----  \n",
      " 0   class                325 non-null    object \n",
      " 1   b1                   325 non-null    int64  \n",
      " 2   b2                   325 non-null    int64  \n",
      " 3   b3                   325 non-null    int64  \n",
      " 4   b4                   325 non-null    int64  \n",
      " 5   b5                   325 non-null    int64  \n",
      " 6   b6                   325 non-null    int64  \n",
      " 7   b7                   325 non-null    int64  \n",
      " 8   b8                   325 non-null    int64  \n",
      " 9   b9                   325 non-null    int64  \n",
      " 10  pred_minus_obs_H_b1  325 non-null    float64\n",
      " 11  pred_minus_obs_H_b2  325 non-null    float64\n",
      " 12  pred_minus_obs_H_b3  325 non-null    float64\n",
      " 13  pred_minus_obs_H_b4  325 non-null    float64\n",
      " 14  pred_minus_obs_H_b5  325 non-null    float64\n",
      " 15  pred_minus_obs_H_b6  325 non-null    float64\n",
      " 16  pred_minus_obs_H_b7  325 non-null    float64\n",
      " 17  pred_minus_obs_H_b8  325 non-null    float64\n",
      " 18  pred_minus_obs_H_b9  325 non-null    float64\n",
      " 19  pred_minus_obs_S_b1  325 non-null    float64\n",
      " 20  pred_minus_obs_S_b2  325 non-null    float64\n",
      " 21  pred_minus_obs_S_b3  325 non-null    float64\n",
      " 22  pred_minus_obs_S_b4  325 non-null    float64\n",
      " 23  pred_minus_obs_S_b5  325 non-null    float64\n",
      " 24  pred_minus_obs_S_b6  325 non-null    float64\n",
      " 25  pred_minus_obs_S_b7  325 non-null    float64\n",
      " 26  pred_minus_obs_S_b8  325 non-null    float64\n",
      " 27  pred_minus_obs_S_b9  325 non-null    float64\n",
      "dtypes: float64(18), int64(9), object(1)\n",
      "memory usage: 71.2+ KB\n"
     ]
    }
   ],
   "source": [
    "train.info()"
   ]
  },
  {
   "cell_type": "code",
   "execution_count": 5,
   "id": "d9455da4",
   "metadata": {},
   "outputs": [
    {
     "data": {
      "text/html": [
       "<div>\n",
       "<style scoped>\n",
       "    .dataframe tbody tr th:only-of-type {\n",
       "        vertical-align: middle;\n",
       "    }\n",
       "\n",
       "    .dataframe tbody tr th {\n",
       "        vertical-align: top;\n",
       "    }\n",
       "\n",
       "    .dataframe thead th {\n",
       "        text-align: right;\n",
       "    }\n",
       "</style>\n",
       "<table border=\"1\" class=\"dataframe\">\n",
       "  <thead>\n",
       "    <tr style=\"text-align: right;\">\n",
       "      <th></th>\n",
       "      <th>b1</th>\n",
       "      <th>b2</th>\n",
       "      <th>b3</th>\n",
       "      <th>b4</th>\n",
       "      <th>b5</th>\n",
       "      <th>b6</th>\n",
       "      <th>b7</th>\n",
       "      <th>b8</th>\n",
       "      <th>b9</th>\n",
       "      <th>pred_minus_obs_H_b1</th>\n",
       "      <th>...</th>\n",
       "      <th>pred_minus_obs_H_b9</th>\n",
       "      <th>pred_minus_obs_S_b1</th>\n",
       "      <th>pred_minus_obs_S_b2</th>\n",
       "      <th>pred_minus_obs_S_b3</th>\n",
       "      <th>pred_minus_obs_S_b4</th>\n",
       "      <th>pred_minus_obs_S_b5</th>\n",
       "      <th>pred_minus_obs_S_b6</th>\n",
       "      <th>pred_minus_obs_S_b7</th>\n",
       "      <th>pred_minus_obs_S_b8</th>\n",
       "      <th>pred_minus_obs_S_b9</th>\n",
       "    </tr>\n",
       "  </thead>\n",
       "  <tbody>\n",
       "    <tr>\n",
       "      <th>count</th>\n",
       "      <td>325.000000</td>\n",
       "      <td>325.000000</td>\n",
       "      <td>325.000000</td>\n",
       "      <td>325.000000</td>\n",
       "      <td>325.000000</td>\n",
       "      <td>325.000000</td>\n",
       "      <td>325.000000</td>\n",
       "      <td>325.000000</td>\n",
       "      <td>325.000000</td>\n",
       "      <td>325.000000</td>\n",
       "      <td>...</td>\n",
       "      <td>325.000000</td>\n",
       "      <td>325.000000</td>\n",
       "      <td>325.000000</td>\n",
       "      <td>325.000000</td>\n",
       "      <td>325.000000</td>\n",
       "      <td>325.000000</td>\n",
       "      <td>325.000000</td>\n",
       "      <td>325.000000</td>\n",
       "      <td>325.000000</td>\n",
       "      <td>325.000000</td>\n",
       "    </tr>\n",
       "    <tr>\n",
       "      <th>mean</th>\n",
       "      <td>58.021538</td>\n",
       "      <td>38.381538</td>\n",
       "      <td>61.467692</td>\n",
       "      <td>96.175385</td>\n",
       "      <td>58.098462</td>\n",
       "      <td>99.196923</td>\n",
       "      <td>85.864615</td>\n",
       "      <td>27.375385</td>\n",
       "      <td>58.880000</td>\n",
       "      <td>55.786769</td>\n",
       "      <td>...</td>\n",
       "      <td>-3.341446</td>\n",
       "      <td>-20.004954</td>\n",
       "      <td>-1.086092</td>\n",
       "      <td>-4.375846</td>\n",
       "      <td>-21.664185</td>\n",
       "      <td>-0.979815</td>\n",
       "      <td>-4.633323</td>\n",
       "      <td>-18.996462</td>\n",
       "      <td>-1.701785</td>\n",
       "      <td>-4.229108</td>\n",
       "    </tr>\n",
       "    <tr>\n",
       "      <th>std</th>\n",
       "      <td>11.705076</td>\n",
       "      <td>14.589516</td>\n",
       "      <td>15.003385</td>\n",
       "      <td>11.120136</td>\n",
       "      <td>10.654920</td>\n",
       "      <td>9.438789</td>\n",
       "      <td>16.642765</td>\n",
       "      <td>7.445316</td>\n",
       "      <td>8.884777</td>\n",
       "      <td>12.347445</td>\n",
       "      <td>...</td>\n",
       "      <td>8.921301</td>\n",
       "      <td>2.908311</td>\n",
       "      <td>1.054544</td>\n",
       "      <td>1.850954</td>\n",
       "      <td>3.594512</td>\n",
       "      <td>0.308081</td>\n",
       "      <td>1.054033</td>\n",
       "      <td>3.307265</td>\n",
       "      <td>1.017594</td>\n",
       "      <td>1.150070</td>\n",
       "    </tr>\n",
       "    <tr>\n",
       "      <th>min</th>\n",
       "      <td>31.000000</td>\n",
       "      <td>23.000000</td>\n",
       "      <td>47.000000</td>\n",
       "      <td>69.000000</td>\n",
       "      <td>43.000000</td>\n",
       "      <td>83.000000</td>\n",
       "      <td>42.000000</td>\n",
       "      <td>19.000000</td>\n",
       "      <td>45.000000</td>\n",
       "      <td>4.950000</td>\n",
       "      <td>...</td>\n",
       "      <td>-58.280000</td>\n",
       "      <td>-26.790000</td>\n",
       "      <td>-5.510000</td>\n",
       "      <td>-10.120000</td>\n",
       "      <td>-34.630000</td>\n",
       "      <td>-1.830000</td>\n",
       "      <td>-7.970000</td>\n",
       "      <td>-29.340000</td>\n",
       "      <td>-6.500000</td>\n",
       "      <td>-8.930000</td>\n",
       "    </tr>\n",
       "    <tr>\n",
       "      <th>25%</th>\n",
       "      <td>50.000000</td>\n",
       "      <td>28.000000</td>\n",
       "      <td>52.000000</td>\n",
       "      <td>89.000000</td>\n",
       "      <td>51.000000</td>\n",
       "      <td>93.000000</td>\n",
       "      <td>73.000000</td>\n",
       "      <td>24.000000</td>\n",
       "      <td>54.000000</td>\n",
       "      <td>48.370000</td>\n",
       "      <td>...</td>\n",
       "      <td>-4.660000</td>\n",
       "      <td>-22.250000</td>\n",
       "      <td>-1.750000</td>\n",
       "      <td>-5.530000</td>\n",
       "      <td>-24.220000</td>\n",
       "      <td>-1.190000</td>\n",
       "      <td>-5.410000</td>\n",
       "      <td>-21.780000</td>\n",
       "      <td>-2.360000</td>\n",
       "      <td>-4.870000</td>\n",
       "    </tr>\n",
       "    <tr>\n",
       "      <th>50%</th>\n",
       "      <td>57.000000</td>\n",
       "      <td>32.000000</td>\n",
       "      <td>55.000000</td>\n",
       "      <td>95.000000</td>\n",
       "      <td>54.000000</td>\n",
       "      <td>96.000000</td>\n",
       "      <td>85.000000</td>\n",
       "      <td>25.000000</td>\n",
       "      <td>57.000000</td>\n",
       "      <td>57.560000</td>\n",
       "      <td>...</td>\n",
       "      <td>-1.250000</td>\n",
       "      <td>-19.950000</td>\n",
       "      <td>-1.030000</td>\n",
       "      <td>-4.490000</td>\n",
       "      <td>-21.040000</td>\n",
       "      <td>-0.990000</td>\n",
       "      <td>-4.670000</td>\n",
       "      <td>-18.870000</td>\n",
       "      <td>-1.650000</td>\n",
       "      <td>-4.150000</td>\n",
       "    </tr>\n",
       "    <tr>\n",
       "      <th>75%</th>\n",
       "      <td>65.000000</td>\n",
       "      <td>43.000000</td>\n",
       "      <td>65.000000</td>\n",
       "      <td>103.000000</td>\n",
       "      <td>63.000000</td>\n",
       "      <td>103.000000</td>\n",
       "      <td>98.000000</td>\n",
       "      <td>27.000000</td>\n",
       "      <td>60.000000</td>\n",
       "      <td>64.120000</td>\n",
       "      <td>...</td>\n",
       "      <td>1.430000</td>\n",
       "      <td>-18.250000</td>\n",
       "      <td>-0.390000</td>\n",
       "      <td>-2.770000</td>\n",
       "      <td>-19.060000</td>\n",
       "      <td>-0.780000</td>\n",
       "      <td>-3.900000</td>\n",
       "      <td>-16.770000</td>\n",
       "      <td>-1.030000</td>\n",
       "      <td>-3.290000</td>\n",
       "    </tr>\n",
       "    <tr>\n",
       "      <th>max</th>\n",
       "      <td>107.000000</td>\n",
       "      <td>91.000000</td>\n",
       "      <td>124.000000</td>\n",
       "      <td>141.000000</td>\n",
       "      <td>100.000000</td>\n",
       "      <td>138.000000</td>\n",
       "      <td>136.000000</td>\n",
       "      <td>84.000000</td>\n",
       "      <td>114.000000</td>\n",
       "      <td>86.080000</td>\n",
       "      <td>...</td>\n",
       "      <td>9.580000</td>\n",
       "      <td>-7.760000</td>\n",
       "      <td>1.780000</td>\n",
       "      <td>1.040000</td>\n",
       "      <td>-12.070000</td>\n",
       "      <td>0.260000</td>\n",
       "      <td>-0.770000</td>\n",
       "      <td>-8.330000</td>\n",
       "      <td>2.580000</td>\n",
       "      <td>-0.590000</td>\n",
       "    </tr>\n",
       "  </tbody>\n",
       "</table>\n",
       "<p>8 rows × 27 columns</p>\n",
       "</div>"
      ],
      "text/plain": [
       "               b1          b2          b3          b4          b5          b6  \\\n",
       "count  325.000000  325.000000  325.000000  325.000000  325.000000  325.000000   \n",
       "mean    58.021538   38.381538   61.467692   96.175385   58.098462   99.196923   \n",
       "std     11.705076   14.589516   15.003385   11.120136   10.654920    9.438789   \n",
       "min     31.000000   23.000000   47.000000   69.000000   43.000000   83.000000   \n",
       "25%     50.000000   28.000000   52.000000   89.000000   51.000000   93.000000   \n",
       "50%     57.000000   32.000000   55.000000   95.000000   54.000000   96.000000   \n",
       "75%     65.000000   43.000000   65.000000  103.000000   63.000000  103.000000   \n",
       "max    107.000000   91.000000  124.000000  141.000000  100.000000  138.000000   \n",
       "\n",
       "               b7          b8          b9  pred_minus_obs_H_b1  ...  \\\n",
       "count  325.000000  325.000000  325.000000           325.000000  ...   \n",
       "mean    85.864615   27.375385   58.880000            55.786769  ...   \n",
       "std     16.642765    7.445316    8.884777            12.347445  ...   \n",
       "min     42.000000   19.000000   45.000000             4.950000  ...   \n",
       "25%     73.000000   24.000000   54.000000            48.370000  ...   \n",
       "50%     85.000000   25.000000   57.000000            57.560000  ...   \n",
       "75%     98.000000   27.000000   60.000000            64.120000  ...   \n",
       "max    136.000000   84.000000  114.000000            86.080000  ...   \n",
       "\n",
       "       pred_minus_obs_H_b9  pred_minus_obs_S_b1  pred_minus_obs_S_b2  \\\n",
       "count           325.000000           325.000000           325.000000   \n",
       "mean             -3.341446           -20.004954            -1.086092   \n",
       "std               8.921301             2.908311             1.054544   \n",
       "min             -58.280000           -26.790000            -5.510000   \n",
       "25%              -4.660000           -22.250000            -1.750000   \n",
       "50%              -1.250000           -19.950000            -1.030000   \n",
       "75%               1.430000           -18.250000            -0.390000   \n",
       "max               9.580000            -7.760000             1.780000   \n",
       "\n",
       "       pred_minus_obs_S_b3  pred_minus_obs_S_b4  pred_minus_obs_S_b5  \\\n",
       "count           325.000000           325.000000           325.000000   \n",
       "mean             -4.375846           -21.664185            -0.979815   \n",
       "std               1.850954             3.594512             0.308081   \n",
       "min             -10.120000           -34.630000            -1.830000   \n",
       "25%              -5.530000           -24.220000            -1.190000   \n",
       "50%              -4.490000           -21.040000            -0.990000   \n",
       "75%              -2.770000           -19.060000            -0.780000   \n",
       "max               1.040000           -12.070000             0.260000   \n",
       "\n",
       "       pred_minus_obs_S_b6  pred_minus_obs_S_b7  pred_minus_obs_S_b8  \\\n",
       "count           325.000000           325.000000           325.000000   \n",
       "mean             -4.633323           -18.996462            -1.701785   \n",
       "std               1.054033             3.307265             1.017594   \n",
       "min              -7.970000           -29.340000            -6.500000   \n",
       "25%              -5.410000           -21.780000            -2.360000   \n",
       "50%              -4.670000           -18.870000            -1.650000   \n",
       "75%              -3.900000           -16.770000            -1.030000   \n",
       "max              -0.770000            -8.330000             2.580000   \n",
       "\n",
       "       pred_minus_obs_S_b9  \n",
       "count           325.000000  \n",
       "mean             -4.229108  \n",
       "std               1.150070  \n",
       "min              -8.930000  \n",
       "25%              -4.870000  \n",
       "50%              -4.150000  \n",
       "75%              -3.290000  \n",
       "max              -0.590000  \n",
       "\n",
       "[8 rows x 27 columns]"
      ]
     },
     "execution_count": 5,
     "metadata": {},
     "output_type": "execute_result"
    }
   ],
   "source": [
    "train.describe()"
   ]
  },
  {
   "cell_type": "markdown",
   "id": "7bbe93f8",
   "metadata": {},
   "source": [
    "### Visualise data \n",
    "\n",
    "Let's take a brief look of the distribution of numerical columns in histogram. b4 and b7 columns look like they are normally distributed while other b columns are right skewed. While columns that start with pre_minus_obs are either  normally distributed or left skewed. <br>\n",
    "\n",
    "The number of instances for each class label is not well-balanced, class s is the most common type of forest which is 3 times more than class h and o. However, we're not sure if the ratio of different forest type is representative of the overall real-world forest type ratio, but the class ratio between test and training set are not matched as well which may induce sampling bias. Therefore, we probably should go back to the splitting stage and do stratified split, to ensure the class category proportions of test set is similar to the overall dataset. "
   ]
  },
  {
   "cell_type": "code",
   "execution_count": 6,
   "id": "dd0f4581",
   "metadata": {},
   "outputs": [
    {
     "data": {
      "image/png": "[encoded data removed]",
      "text/plain": [
       "<Figure size 1440x1080 with 30 Axes>"
      ]
     },
     "metadata": {
      "needs_background": "light"
     },
     "output_type": "display_data"
    }
   ],
   "source": [
    "train.hist(bins=50, figsize=(20,15))\n",
    "plt.show()"
   ]
  },
  {
   "cell_type": "code",
   "execution_count": 7,
   "id": "a7bf3fde",
   "metadata": {},
   "outputs": [
    {
     "data": {
      "image/png": "[encoded data removed]",
      "text/plain": [
       "<Figure size 432x288 with 1 Axes>"
      ]
     },
     "metadata": {
      "needs_background": "light"
     },
     "output_type": "display_data"
    }
   ],
   "source": [
    "sns.histplot(x='b1', data=train)\n",
    "plt.title('b1 spectra', fontsize=18)\n",
    "plt.xlabel('Wavelength', fontsize=16)\n",
    "plt.ylabel('Count', fontsize=16)\n",
    "plt.show()  "
   ]
  },
  {
   "cell_type": "code",
   "execution_count": 8,
   "id": "ab46d5d4",
   "metadata": {},
   "outputs": [
    {
     "data": {
      "image/png": "[encoded data removed]",
      "text/plain": [
       "<Figure size 432x288 with 1 Axes>"
      ]
     },
     "metadata": {
      "needs_background": "light"
     },
     "output_type": "display_data"
    }
   ],
   "source": [
    "# frequency of forest type\n",
    "sns.countplot(x='class', data=train)\n",
    "plt.title('Forest type Frequency', fontsize=18)\n",
    "plt.xlabel('Type of forest', fontsize=16)\n",
    "plt.ylabel('Count', fontsize=16)\n",
    "plt.show()           "
   ]
  },
  {
   "cell_type": "code",
   "execution_count": 9,
   "id": "59ccb538",
   "metadata": {},
   "outputs": [
    {
     "data": {
      "image/png": "[encoded data removed]",
      "text/plain": [
       "<Figure size 432x288 with 1 Axes>"
      ]
     },
     "metadata": {
      "needs_background": "light"
     },
     "output_type": "display_data"
    },
    {
     "data": {
      "text/plain": [
       "<Figure size 1440x720 with 0 Axes>"
      ]
     },
     "metadata": {},
     "output_type": "display_data"
    }
   ],
   "source": [
    "# class d,s,h have very similar pattern between b7 and b8 spectra \n",
    "# b8 below 30 for all class type except o and b7 range from 40-140)\n",
    "%matplotlib inline\n",
    "sns.scatterplot(x='b7', y='b8', hue='class', data=train)\n",
    "plt.title('Forest type VS b7/b8 spectra', fontsize=18)\n",
    "plt.xlabel('b7 wavelength ', fontsize=16)\n",
    "plt.ylabel('b8 wavelength', fontsize=16)\n",
    "plt.figure(figsize=(20,10))\n",
    "plt.show()"
   ]
  },
  {
   "cell_type": "code",
   "execution_count": null,
   "id": "95ddc2e1",
   "metadata": {},
   "outputs": [],
   "source": [
    "# same spectra between month is differnt, linear relationship between March and September\n",
    "sns.regplot(x='b1', y='b4', data=train)\n",
    "plt.title('Green spectra', fontsize=18)\n",
    "plt.xlabel('Sep (wavelength)', fontsize=16)\n",
    "plt.ylabel('Mar(wavelength)', fontsize=16)\n",
    "plt.show()"
   ]
  },
  {
   "cell_type": "markdown",
   "id": "7742dd35",
   "metadata": {},
   "source": [
    "If the input data columns are in the order as the data description described, b1 and b4 refers to same spectra measured in differnt months in different year, and we can see from the scatter plot above that the wavelength is higher in March than in September. <br>\n",
    "\n",
    "To invetigate that more, I've taken the average of all columns that start with b and plot them in barplot and coloured them by the month they were measured (same colour for same month and year). We can see from the barplot below that wavelength of spectra are different across month and red spectral has the lowest wavelength across all 3 days."
   ]
  },
  {
   "cell_type": "code",
   "execution_count": 10,
   "id": "57ce4053",
   "metadata": {},
   "outputs": [
    {
     "data": {
      "image/png": "[encoded data removed]",
      "text/plain": [
       "<Figure size 432x288 with 1 Axes>"
      ]
     },
     "metadata": {
      "needs_background": "light"
     },
     "output_type": "display_data"
    }
   ],
   "source": [
    "spectra_mean = train.describe().iloc[1:2,0:9].T\n",
    "spectra_mean.insert(0, 'forest', ['b1','b2','b3','b4','b5','b6','b7','b8','b9'])\n",
    "palette = [color for color in ['green','red', 'blue'] for _ in range(3)]\n",
    "sns.barplot(x='forest', y='mean', data=spectra_mean, palette=palette)\n",
    "plt.title('Spectra_mean wavelength', fontsize=18)\n",
    "plt.xlabel('Spectra', fontsize=16)\n",
    "plt.ylabel('wavelength', fontsize=16)\n",
    "plt.show()"
   ]
  },
  {
   "cell_type": "code",
   "execution_count": 11,
   "id": "393fda03",
   "metadata": {},
   "outputs": [],
   "source": [
    "# create new column which is the average of three measures in three consecutive years\n",
    "train['green'] = train[['b1','b4','b7']].mean(axis=1)\n",
    "train['red'] = train[['b2','b5','b8']].mean(axis=1)\n",
    "train['infra'] = train[['b3','b6','b9']].mean(axis=1)"
   ]
  },
  {
   "cell_type": "code",
   "execution_count": 12,
   "id": "ed61ae53",
   "metadata": {},
   "outputs": [
    {
     "data": {
      "image/png": "[encoded data removed]",
      "text/plain": [
       "<Figure size 1800x504 with 3 Axes>"
      ]
     },
     "metadata": {
      "needs_background": "light"
     },
     "output_type": "display_data"
    }
   ],
   "source": [
    "# plot boxplot in one (ditched because too messy): \n",
    "# dd=pd.melt(train,id_vars=['class'],value_vars=['green','red','infra'],var_name='spectra')\n",
    "# sns.boxplot(x='class',y='value',data=dd,hue='spectra')\n",
    "\n",
    "# boxplot for the new columns created above \n",
    "\n",
    "plt.rcParams['figure.figsize'] = [25,7] # change the size of figure \n",
    "\n",
    "# function setting the labels\n",
    "def sep_box(y,title, data=train):              \n",
    "    sns.boxplot(x = 'class', y = y, data=train)\n",
    "    plt.title(title,fontsize=18)\n",
    "    plt.xlabel('Forest type',fontsize=16)\n",
    "    plt.ylabel('Wavelength',fontsize=16)\n",
    "\n",
    "plt.subplot(1, 3, 1) # row 1, col 2 index 1\n",
    "sep_box(y='green',title='Green spectra')\n",
    "\n",
    "plt.subplot(1, 3, 2) # index 1\n",
    "sep_box(y='red',title='Red spectra')\n",
    "\n",
    "plt.subplot(1, 3, 3) # index 3\n",
    "sep_box(y='infra',title='Near Infra-red spectra')\n",
    "\n",
    "plt.show()"
   ]
  },
  {
   "cell_type": "code",
   "execution_count": 13,
   "id": "17a1a6a0",
   "metadata": {},
   "outputs": [
    {
     "data": {
      "image/png": "[encoded data removed]",
      "text/plain": [
       "<Figure size 872x216 with 4 Axes>"
      ]
     },
     "metadata": {
      "needs_background": "light"
     },
     "output_type": "display_data"
    }
   ],
   "source": [
    "pred = sns.FacetGrid(train, col='class',margin_titles=True)\n",
    "pred.map(sns.regplot, 'pred_minus_obs_S_b4', 'b4').add_legend()\n",
    "pred.fig.subplots_adjust(top=0.8)\n",
    "pred.fig.suptitle('Forest type b4/b4-pred', size=18)\n",
    "plt.show()"
   ]
  },
  {
   "cell_type": "markdown",
   "id": "bf90cd72",
   "metadata": {},
   "source": [
    "## Data Transformation"
   ]
  },
  {
   "cell_type": "markdown",
   "id": "1951101c",
   "metadata": {},
   "source": [
    "Not much cleaning is required for the datset, as mentioned above the data is very clean. \n",
    "\n",
    "SVC is very sensitive to outliers and there are some outliers present, but since it's a small dataset, outlier treatment is not considered. From below output we can see b8 has 41 outliers and that's almost 13% of the data, thus it is not a good idea to remove those data.\n",
    "\n",
    "SVC algorithm (and others) don’t perform well when input the numerical attributes have very different scales. So before we fit our data to the algorithms, it is important to make sure that all attributes have the same scale.\n",
    "<br>\n",
    "\n",
    "We'll use standardization here as it is much less affected by outliers than minmaxscaler.\n"
   ]
  },
  {
   "cell_type": "code",
   "execution_count": null,
   "id": "76717800",
   "metadata": {},
   "outputs": [],
   "source": [
    "Q1 = train.quantile(0.25)  \n",
    "Q3 = train.quantile(0.75)\n",
    "IQR = Q3 - Q1\n",
    "top = Q1 - 1.5 * IQR\n",
    "bottom = Q3 + 1.5 * IQR"
   ]
  },
  {
   "cell_type": "code",
   "execution_count": null,
   "id": "d4b8c00c",
   "metadata": {},
   "outputs": [],
   "source": [
    "# count number of outliers in the dataset\n",
    "# series and dataframe comaprision is deprecated, must align first using axis =1: align on columns\n",
    "train, top = train.align(top, axis=1, copy=False)  \n",
    "train, bottom = train.align(bottom, axis=1, copy=False)\n",
    "((train < top) | (train > bottom)).sum()"
   ]
  },
  {
   "cell_type": "code",
   "execution_count": null,
   "id": "dfad7697",
   "metadata": {},
   "outputs": [],
   "source": [
    "# only keep columns start with b\n",
    "# or use regex to remove columns start with pred_minus_obs and keep extra columns generated from previous steps\n",
    "# use negtive regex: r\"^(?!pred_minus_obs.*)\" \n",
    "train_pre = train.filter(regex='^b.*')\n",
    "test_pre = test.filter(regex='^b.*')\n",
    "train_label = train['class']\n",
    "test_label = test['class']"
   ]
  },
  {
   "cell_type": "code",
   "execution_count": null,
   "id": "7fcd292e",
   "metadata": {},
   "outputs": [],
   "source": [
    "# train_pre.groupby('class').count() if its dataframe\n",
    "# proportion of each class \n",
    "train_label.value_counts(normalize=True)"
   ]
  },
  {
   "cell_type": "code",
   "execution_count": null,
   "id": "af8e8cbb",
   "metadata": {},
   "outputs": [],
   "source": [
    "from sklearn.preprocessing import StandardScaler\n",
    "\n",
    "# perform feature scaling: standardisation\n",
    "scaler = StandardScaler()\n",
    "train_pre_tran = scaler.fit_transform(train_pre)\n",
    "test_pre_tran = scaler.transform(test_pre)"
   ]
  },
  {
   "cell_type": "markdown",
   "id": "38f0c3c8",
   "metadata": {},
   "source": [
    "## Model training \n",
    "\n",
    "### Training and evaluating on training set\n",
    "\n",
    "SVC: set decision_function_shape to one-versus-one that train a binary classifier for every pair of class type . SGDClassifier uses one-versus-rest strategy which train one classifier classifier per class type<br>\n",
    "\n",
    "SVC perform better than SGD model with accuracy of 0.886 while the accuracy for SGD is 0.856. The classification report reports the performance scores for each class label seperately. \n",
    "\n",
    "Since the training data is unbalanced and class_weight='balanced' is used to adjust weights inversely proportional to class frequencies, after set the class_weight parameter to balanced, the model perform slightly worse than just leave all class as the weight one (if leave this parameter as default which all class with weight of 1, the accuracy is 0.908)."
   ]
  },
  {
   "cell_type": "code",
   "execution_count": null,
   "id": "c91dd6f6",
   "metadata": {},
   "outputs": [],
   "source": [
    "from sklearn.svm import SVC\n",
    "from sklearn.metrics import precision_score, recall_score, accuracy_score, f1_score\n",
    "from sklearn.metrics import classification_report\n",
    "\n",
    "# decision_function_shape default is 'ovr' set to ovo as required \n",
    "# gamma = 1 / (n_features * X.var()) or 1 / n_features or self-defined set of values\n",
    "# tol: Tolerance for stopping criterion.\n",
    "# default kernel is rbf\n",
    "svc = SVC(decision_function_shape='ovo', tol= 0.001, gamma=\"auto\", shrinking=True, class_weight ='balanced',\n",
    "          random_state=43)\n",
    "svc.fit(train_pre_tran,train_label)"
   ]
  },
  {
   "cell_type": "code",
   "execution_count": null,
   "id": "ef92aefe",
   "metadata": {},
   "outputs": [],
   "source": [
    "svc_prediction = svc.predict(train_pre_tran)\n",
    "accuracy_score(train_label,svc_prediction)"
   ]
  },
  {
   "cell_type": "code",
   "execution_count": null,
   "id": "a3105eb6",
   "metadata": {},
   "outputs": [],
   "source": [
    "target_names = ['s','d','o','h']\n",
    "print(classification_report(train_label, svc_prediction, target_names=target_names))"
   ]
  },
  {
   "cell_type": "code",
   "execution_count": null,
   "id": "501bc496",
   "metadata": {},
   "outputs": [],
   "source": [
    "from sklearn.linear_model import SGDClassifier\n",
    "sgd_clf = SGDClassifier(random_state=42, early_stopping= True, learning_rate='optimal',class_weight ='balanced') \n",
    "sgd_clf.fit(train_pre_tran,train_label)"
   ]
  },
  {
   "cell_type": "code",
   "execution_count": null,
   "id": "fff92a11",
   "metadata": {},
   "outputs": [],
   "source": [
    "sgd_prediction = sgd_clf.predict(train_pre_tran)\n",
    "accuracy_score(train_label,sgd_prediction)"
   ]
  },
  {
   "cell_type": "code",
   "execution_count": null,
   "id": "8ca1784e",
   "metadata": {},
   "outputs": [],
   "source": [
    "print(classification_report(train_label, sgd_prediction, target_names=target_names))"
   ]
  },
  {
   "cell_type": "markdown",
   "id": "3d624bb8",
   "metadata": {},
   "source": [
    "### Cross Validation (3-fold)\n",
    "\n",
    "Splitting the training set into 3 folds then make predictions and evaluating on each fold. <br>\n",
    "\n",
    "First, use the cross_val_score function from sklearn and we can see the SVC model accuracy is above 0.82 and the SGD model is 0.75. <br>\n",
    "\n",
    "Since the data is not balanced, stratified cross validation is then performed."
   ]
  },
  {
   "cell_type": "code",
   "execution_count": null,
   "id": "c72a9165",
   "metadata": {},
   "outputs": [],
   "source": [
    "from sklearn.model_selection import cross_val_score\n",
    "\n",
    "# perfrom cross validation using off-the-shelf cross validation from sklearn \n",
    "cross_val_score(svc,train_pre_tran,train_label, cv=3, scoring='accuracy')"
   ]
  },
  {
   "cell_type": "code",
   "execution_count": null,
   "id": "df41be04",
   "metadata": {},
   "outputs": [],
   "source": [
    "cross_val_score(sgd_clf,train_pre_tran,train_label, cv=3, scoring='accuracy')"
   ]
  },
  {
   "cell_type": "code",
   "execution_count": null,
   "id": "d2552c22",
   "metadata": {},
   "outputs": [],
   "source": [
    "from sklearn.model_selection import StratifiedKFold\n",
    "from sklearn.base import clone\n",
    "\n",
    "# stratified cross-validation, ensure each fold has the same class ratio\n",
    "skf = StratifiedKFold(n_splits=3, shuffle=True, random_state=1)\n",
    "def cross_val(model,x=train_pre_tran, y=train_label):\n",
    "    clone_model = clone(model)\n",
    "    lst_accu_stratified = []\n",
    "    for train_index, test_index in skf.split(x, y):\n",
    "        x_train_fold, x_test_fold = x[train_index], x[test_index]\n",
    "        y_train_fold, y_test_fold = y[train_index], y[test_index]\n",
    "        clone_model.fit(x_train_fold, y_train_fold)\n",
    "        lst_accu_stratified.append(clone_model.score(x_test_fold, y_test_fold))\n",
    "    print(lst_accu_stratified)"
   ]
  },
  {
   "cell_type": "code",
   "execution_count": null,
   "id": "d4919c61",
   "metadata": {},
   "outputs": [],
   "source": [
    "cross_val(svc)"
   ]
  },
  {
   "cell_type": "code",
   "execution_count": null,
   "id": "b79d9136",
   "metadata": {},
   "outputs": [],
   "source": [
    "cross_val(sgd_clf)"
   ]
  },
  {
   "cell_type": "markdown",
   "id": "8ddf2762",
   "metadata": {},
   "source": [
    "## Model tuning "
   ]
  },
  {
   "cell_type": "markdown",
   "id": "ff868939",
   "metadata": {},
   "source": [
    "### GridSearch\n",
    "\n",
    "Find the optimal hyperparameters of SVC and SGD model which gives the highest accuracy score.\n",
    "\n",
    "####  SVC model\n",
    "Kernels: take low dimensional input space and transform it into a higher-dimensional space. The accuracy above doesn't look very bad, however, some datasets may not be linear separable and other kernal function may acheive a better result. Different kernals such as'rbf', 'sigmoid','poly','linear' used selected to find the combination of hyperparameter that with highest accuracy score.\n",
    "\n",
    "The choice of C and gamma hyperparameter is very important for SVM model especially for kernel RBF, so let's try to found the optimal value for those two.\n",
    "\n",
    "C: penalty parameter, which represents misclassification/error term. The misclassification term tells the SVM optimisation how much error is bearable. Use this to control the trade-off between decision boundary and misclassification term. When C is high it will classify all the data points correctly, which increase the chance to overfit. Five c values (0.01, 0.1, 1, 10, 100)  were used to in combination with other two hyperparameters to find the highest accuracy.\n",
    "\n",
    "Gamma: how far influences the calculation of plausible line of separation. When gamma is higher, nearby points will have high influence; low gamma means far away points also be considered to get the decision boundary.\n",
    "'scale' is passed then it uses 1 / (n_features * X.var()) as value of gamma while ‘auto’uses 1 / n_features. \n",
    "Can also try with self defined value range, tried gamma value [0.001,0.01,0.1,1,10], however the default(scale) perform the best.\n",
    "\n",
    "The best combination of parameters that give the highest accuracy score is {'C': 1, 'gamma': 'scale', 'kernel': 'linear'} (this output doesnt report the default parameters and parameters set above)  with a accuracy of 0.867."
   ]
  },
  {
   "cell_type": "code",
   "execution_count": null,
   "id": "7dcc20d5",
   "metadata": {},
   "outputs": [],
   "source": [
    "from sklearn.model_selection import GridSearchCV \n",
    "\n",
    "# grid search for svc ovo\n",
    "param_grid = [{\n",
    "    'kernel':['rbf', 'sigmoid','poly','linear'],\n",
    "    'C': [0.01, 0.1, 1, 10, 100],\n",
    "    'gamma': ['scale','auto']\n",
    "}]\n",
    "\n",
    "grid_search_svc = GridSearchCV(svc, param_grid, cv=3, \n",
    "                           scoring='accuracy',\n",
    "                          return_train_score=True)\n",
    "grid_search_svc.fit(train_pre_tran,train_label)"
   ]
  },
  {
   "cell_type": "code",
   "execution_count": null,
   "id": "164db287",
   "metadata": {},
   "outputs": [],
   "source": [
    "grid_search_svc.best_params_"
   ]
  },
  {
   "cell_type": "code",
   "execution_count": null,
   "id": "42554547",
   "metadata": {},
   "outputs": [],
   "source": [
    "grid_search_svc.best_score_"
   ]
  },
  {
   "cell_type": "markdown",
   "id": "2e458dc6",
   "metadata": {},
   "source": [
    "#### SGDClassifier \n",
    "Loss: The loss function to be used. There are many loss function available and 'hinge', 'log','huber', 'epsilon_insensitive', 'squared_epsilon_insensitive' have been chosen.\n",
    "\n",
    "Penalty: The penalty to be used ('l1','l2','elasticnet') \n",
    "\n",
    "early_stopping: boolean variable either true or false. To decide whether to use early stopping to terminate training when validation score is not improving. \n",
    "\n",
    "eta0 define the initial learning rate and I've tried it with different of learning rate and it require many iterations (more than 100000) to reach convergence. \n",
    "\n",
    "The algorithm perform better when alpha (regularization term) is greater than the default 0.0001. This parameter also determine the learning rate when learning rate is set to 'optimal' thus the higher the alpha, the more iternation is needed to converge.\n",
    "\n",
    "The best combination of parameters is {'alpha': 0.001, 'early_stopping': True, 'loss': 'hinge', 'penalty': 'l2'} and the accuracy is 0.864 which is simialr to SVC model."
   ]
  },
  {
   "cell_type": "code",
   "execution_count": null,
   "id": "08fd0918",
   "metadata": {},
   "outputs": [],
   "source": [
    "# grid search for sgd classifier\n",
    "param_grid = [{\n",
    "    'loss':['hinge', 'log','huber', 'epsilon_insensitive', 'squared_epsilon_insensitive'],\n",
    "    'penalty':['l1','l2','elasticnet'],\n",
    "    'early_stopping':[True, False],\n",
    "    'alpha':[0.0001,0.001]\n",
    "}]\n",
    "\n",
    "grid_search_sgd = GridSearchCV(sgd_clf, param_grid, cv=3, \n",
    "                           scoring='accuracy',\n",
    "                           return_train_score=True)\n",
    "\n",
    "grid_search_sgd.fit(train_pre_tran,train_label)"
   ]
  },
  {
   "cell_type": "code",
   "execution_count": null,
   "id": "c9e289ae",
   "metadata": {},
   "outputs": [],
   "source": [
    "grid_search_sgd.best_params_"
   ]
  },
  {
   "cell_type": "code",
   "execution_count": null,
   "id": "7b57be03",
   "metadata": {},
   "outputs": [],
   "source": [
    "grid_search_sgd.best_score_"
   ]
  },
  {
   "cell_type": "markdown",
   "id": "e548d4df",
   "metadata": {},
   "source": [
    "### Performance of tuned model on training set\n",
    "\n",
    "Again, tuned SVC model performe better than SGD model (0.883 vs 0.833). From the confusion matrix graphs below we can see there is a clear diagonal for the two models which means predicted label match with actual label. Accuracy of class h and d for SVC are better than SGD.\n",
    "\n",
    "The misclassification trend for the two model is very simialr that actual d, h class has a significant amount of number misclassified as s class, s misclassified d or h and classified o as d. \n",
    "\n",
    "One thing to be noted is that the precision, recall, f1 and accruacy score are the same for multicalss problem if the metrics is calcualted at a global level this is because if there is a false positive, there will always also be a false negative and vice versa. "
   ]
  },
  {
   "cell_type": "code",
   "execution_count": null,
   "id": "4357b1aa",
   "metadata": {},
   "outputs": [],
   "source": [
    "from sklearn.metrics import confusion_matrix,ConfusionMatrixDisplay\n",
    "\n",
    "# plot confusion matrix\n",
    "def matrix(y_true,y_pred, model):\n",
    "    mx = confusion_matrix(y_true,y_pred)\n",
    "    disp = ConfusionMatrixDisplay(mx,display_labels=model.classes_) \n",
    "    disp.plot()\n",
    "\n",
    "#  plt.matshow(mx, cmap=plt.cm.gray)\n",
    "#  plt.show()\n",
    "\n",
    "# average micro: \n",
    "# Calculate metrics globally by counting the total true positives, false negatives and false positives\n",
    "def performance(y_true,y_pred,model):\n",
    "    print(model)\n",
    "    print('precision:', precision_score(y_true, y_pred, average='micro'))\n",
    "    print('recall:', recall_score(y_true, y_pred, average='micro'))\n",
    "    print('accuracy:', accuracy_score(y_true, y_pred))\n",
    "    print('f1:', f1_score(y_true, y_pred, average='micro'))"
   ]
  },
  {
   "cell_type": "code",
   "execution_count": null,
   "id": "ab8da1ac",
   "metadata": {},
   "outputs": [],
   "source": [
    "final_svc_model = grid_search_svc.best_estimator_\n",
    "final_svc_prediction = final_svc_model.predict(train_pre_tran)"
   ]
  },
  {
   "cell_type": "code",
   "execution_count": null,
   "id": "94165508",
   "metadata": {},
   "outputs": [],
   "source": [
    "matrix(train_label,final_svc_prediction,final_svc_model)"
   ]
  },
  {
   "cell_type": "code",
   "execution_count": null,
   "id": "abc9853e",
   "metadata": {},
   "outputs": [],
   "source": [
    "performance(train_label,final_svc_prediction,'svc-model')"
   ]
  },
  {
   "cell_type": "code",
   "execution_count": null,
   "id": "7ea76ded",
   "metadata": {},
   "outputs": [],
   "source": [
    "final_sgd_model = grid_search_sgd.best_estimator_\n",
    "final_sgd_prediction = final_sgd_model.predict(train_pre_tran)"
   ]
  },
  {
   "cell_type": "code",
   "execution_count": null,
   "id": "71db27ac",
   "metadata": {},
   "outputs": [],
   "source": [
    "matrix(train_label,final_sgd_prediction,final_sgd_model)"
   ]
  },
  {
   "cell_type": "code",
   "execution_count": null,
   "id": "876f56f3",
   "metadata": {},
   "outputs": [],
   "source": [
    "performance(train_label,final_sgd_prediction,'sgd-model')"
   ]
  },
  {
   "cell_type": "markdown",
   "id": "5ea87c5e",
   "metadata": {},
   "source": [
    "## Evaluate model on test set\n",
    "\n",
    "The two models perform very similar on test set as compared to training set which means the model generalised quite well. By looking at the confusion matrix, the misclassification pattern is very simialr as well for both model\n",
    "\n",
    "SVC perform better in the h and d class than SGD, both models classified a large number of h as s.\n",
    "\n",
    "SVC is perform slightly better than SGD with accuracy of 0.899 and 0.888, respectively."
   ]
  },
  {
   "cell_type": "code",
   "execution_count": null,
   "id": "26f99fc8",
   "metadata": {},
   "outputs": [],
   "source": [
    "final_sgd_predictions = final_sgd_model.predict(test_pre_tran)\n",
    "final_svc_predictions = final_svc_model.predict(test_pre_tran)"
   ]
  },
  {
   "cell_type": "code",
   "execution_count": null,
   "id": "b8f3da3e",
   "metadata": {},
   "outputs": [],
   "source": [
    "print(classification_report(test_label, final_svc_predictions, target_names=target_names))\n",
    "print(\"accuracy_score:\", accuracy_score(test_label,final_svc_predictions))\n",
    "matrix(test_label,final_svc_predictions,final_svc_model)"
   ]
  },
  {
   "cell_type": "code",
   "execution_count": null,
   "id": "009174d6",
   "metadata": {},
   "outputs": [],
   "source": [
    "print(classification_report(test_label, final_sgd_predictions, target_names=target_names))\n",
    "print(\"accuracy_score:\", accuracy_score(test_label,final_sgd_predictions))\n",
    "matrix(test_label,final_sgd_predictions,final_sgd_model)"
   ]
  },
  {
   "cell_type": "code",
   "execution_count": null,
   "id": "86c40ac7",
   "metadata": {},
   "outputs": [],
   "source": []
  },
  {
   "cell_type": "code",
   "execution_count": 13,
   "id": "d4444e1a",
   "metadata": {},
   "outputs": [],
   "source": [
    "import numpy as np"
   ]
  },
  {
   "cell_type": "code",
   "execution_count": 14,
   "id": "e324051f",
   "metadata": {},
   "outputs": [],
   "source": [
    "cm = np.array([[22,1,1], [4,45,2], [1,1,23]])"
   ]
  },
  {
   "cell_type": "code",
   "execution_count": 18,
   "id": "ebb3d680",
   "metadata": {},
   "outputs": [],
   "source": [
    "true_pos = np.diag(cm)\n",
    "false_pos = np.sum(cm, axis=0) - true_pos\n",
    "false_neg = np.sum(cm, axis=1) - true_pos\n",
    "precision = np.sum(true_pos / (true_pos + false_pos)) /3\n",
    "recall = np.sum(true_pos / (true_pos + false_neg)) /3"
   ]
  },
  {
   "cell_type": "code",
   "execution_count": 19,
   "id": "2aa1aeba",
   "metadata": {},
   "outputs": [
    {
     "data": {
      "text/plain": [
       "0.8856256693136126"
      ]
     },
     "execution_count": 19,
     "metadata": {},
     "output_type": "execute_result"
    }
   ],
   "source": [
    "precision"
   ]
  },
  {
   "cell_type": "code",
   "execution_count": 20,
   "id": "12b75f4b",
   "metadata": {},
   "outputs": [
    {
     "data": {
      "text/plain": [
       "0.9063398692810457"
      ]
     },
     "execution_count": 20,
     "metadata": {},
     "output_type": "execute_result"
    }
   ],
   "source": [
    "recall"
   ]
  },
  {
   "cell_type": "code",
   "execution_count": 6,
   "id": "2d43baf8-2586-4470-b2de-dcfd38abe1c0",
   "metadata": {},
   "outputs": [],
   "source": [
    "true_pos = np.diag(cm).sum()\n",
    "precision = np.sum(true_pos / np.sum(cm, axis=0).sum())\n",
    "recall = np.sum(true_pos / np.sum(cm, axis=1).sum())"
   ]
  },
  {
   "cell_type": "code",
   "execution_count": 11,
   "id": "4c224cdf-174c-4d33-a63e-8b5fee161508",
   "metadata": {},
   "outputs": [
    {
     "data": {
      "text/plain": [
       "0.9"
      ]
     },
     "execution_count": 11,
     "metadata": {},
     "output_type": "execute_result"
    }
   ],
   "source": [
    "precision"
   ]
  },
  {
   "cell_type": "code",
   "execution_count": 12,
   "id": "ff733bed-aa83-45cc-a278-2bbccff105a6",
   "metadata": {},
   "outputs": [
    {
     "data": {
      "text/plain": [
       "0.9"
      ]
     },
     "execution_count": 12,
     "metadata": {},
     "output_type": "execute_result"
    }
   ],
   "source": [
    "recall"
   ]
  },
  {
   "cell_type": "code",
   "execution_count": null,
   "id": "f12c9e2e-e171-48b7-8194-18619d141193",
   "metadata": {},
   "outputs": [],
   "source": []
  }
 ],
 "metadata": {
  "kernelspec": {
   "display_name": "Python 3 (ipykernel)",
   "language": "python",
   "name": "python3"
  },
  "language_info": {
   "codemirror_mode": {
    "name": "ipython",
    "version": 3
   },
   "file_extension": ".py",
   "mimetype": "text/x-python",
   "name": "python",
   "nbconvert_exporter": "python",
   "pygments_lexer": "ipython3",
   "version": "3.8.5"
  }
 },
 "nbformat": 4,
 "nbformat_minor": 5
}
